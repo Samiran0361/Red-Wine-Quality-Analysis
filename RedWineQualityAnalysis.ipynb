{
  "nbformat": 4,
  "nbformat_minor": 0,
  "metadata": {
    "colab": {
      "name": "RedWineQualityAnalysis.ipynb",
      "provenance": []
    },
    "kernelspec": {
      "name": "python3",
      "display_name": "Python 3"
    }
  },
  "cells": [
    {
      "cell_type": "markdown",
      "metadata": {
        "id": "hOwGgHa-Nz7g"
      },
      "source": [
        "### Data Information\n",
        "fixed acidity: :most acids involved with wine or fixed or nonvolatile (do not evaporate readily).\n",
        "\n",
        "volatile acidity: the amount of acetic acid in wine, which at too high of levels can lead to an unpleasant, vinegar taste.\n",
        "\n",
        "citric acid: found in small quantities, citric acid can add 'freshness' and flavor to wines.\n",
        "\n",
        "residual sugar: the amount of sugar remaining after fermentation stops, it's rare to find wines with less than 1 gram/liter and wines with greater than 45 grams/liter are considered sweet.\n",
        "\n",
        "chlorides: the amount of salt in the wine.\n",
        "\n",
        "free sulfur dioxide: the free form of SO2 exists in equilibrium between molecular SO2 (as a dissolved gas) and bisulfite ion; it prevents microbial growth and the oxidation of wine.\n",
        "\n",
        "total sulfur dioxide: amount of free and bound forms of S02; in low concentrations, SO2 is mostly undetectable in wine, but at free SO2 concentrations over 50 ppm, SO2 becomes evident in the nose and taste of wine.\n",
        "\n",
        "density: the density of wine is close to that of water depending on the percent alcohol and sugar content.\n",
        "\n",
        "pH: describes how acidic or basic a wine is on a scale from 0 (very acidic) to 14 (very basic); most wines are between 3-4 on the pH scale.\n",
        "\n",
        "sulphates: a wine additive which can contribute to sulfur dioxide gas (S02) levels, wich acts as an antimicrobial and antioxidant.\n",
        "\n",
        "alcohol: the percent alcohol content of the wine.\n",
        "\n",
        "quality: output variable (based on sensory data, score between 0 and 10)."
      ]
    },
    {
      "cell_type": "markdown",
      "metadata": {
        "id": "Ag6xmXIWODtX"
      },
      "source": [
        "### Import the necessary libraries"
      ]
    },
    {
      "cell_type": "code",
      "metadata": {
        "id": "dtvhFcIEIjch"
      },
      "source": [
        "import numpy as np\n",
        "import warnings\n",
        "import pandas as pd\n",
        "import matplotlib.pyplot as plt\n",
        "import seaborn as sns\n",
        "from sklearn.model_selection import train_test_split\n",
        "from sklearn.linear_model import LinearRegression\n",
        "from sklearn.metrics import mean_squared_error\n",
        "from sklearn.metrics import f1_score, confusion_matrix, accuracy_score, recall_score, precision_score\n",
        "from sklearn.preprocessing import PolynomialFeatures\n",
        "from sklearn.tree import DecisionTreeRegressor\n",
        "from sklearn.ensemble import RandomForestRegressor\n",
        "from sklearn import linear_model\n",
        "from math import sqrt\n",
        "from prettytable import PrettyTable"
      ],
      "execution_count": null,
      "outputs": []
    },
    {
      "cell_type": "markdown",
      "metadata": {
        "id": "G2jwC_h0OsZy"
      },
      "source": [
        "### Reading the dataset"
      ]
    },
    {
      "cell_type": "code",
      "metadata": {
        "colab": {
          "base_uri": "https://localhost:8080/",
          "height": 374
        },
        "id": "AsFgnQwhI1YK",
        "outputId": "b6910d31-6e41-4616-f89f-0e820864a6a1"
      },
      "source": [
        "df = pd.read_csv(\"winequality-red.csv\")\n",
        "df.head(10)"
      ],
      "execution_count": null,
      "outputs": [
        {
          "output_type": "execute_result",
          "data": {
            "text/html": [
              "<div>\n",
              "<style scoped>\n",
              "    .dataframe tbody tr th:only-of-type {\n",
              "        vertical-align: middle;\n",
              "    }\n",
              "\n",
              "    .dataframe tbody tr th {\n",
              "        vertical-align: top;\n",
              "    }\n",
              "\n",
              "    .dataframe thead th {\n",
              "        text-align: right;\n",
              "    }\n",
              "</style>\n",
              "<table border=\"1\" class=\"dataframe\">\n",
              "  <thead>\n",
              "    <tr style=\"text-align: right;\">\n",
              "      <th></th>\n",
              "      <th>fixed acidity</th>\n",
              "      <th>volatile acidity</th>\n",
              "      <th>citric acid</th>\n",
              "      <th>residual sugar</th>\n",
              "      <th>chlorides</th>\n",
              "      <th>free sulfur dioxide</th>\n",
              "      <th>total sulfur dioxide</th>\n",
              "      <th>density</th>\n",
              "      <th>pH</th>\n",
              "      <th>sulphates</th>\n",
              "      <th>alcohol</th>\n",
              "      <th>quality</th>\n",
              "    </tr>\n",
              "  </thead>\n",
              "  <tbody>\n",
              "    <tr>\n",
              "      <th>0</th>\n",
              "      <td>7.4</td>\n",
              "      <td>0.70</td>\n",
              "      <td>0.00</td>\n",
              "      <td>1.9</td>\n",
              "      <td>0.076</td>\n",
              "      <td>11.0</td>\n",
              "      <td>34.0</td>\n",
              "      <td>0.9978</td>\n",
              "      <td>3.51</td>\n",
              "      <td>0.56</td>\n",
              "      <td>9.4</td>\n",
              "      <td>5</td>\n",
              "    </tr>\n",
              "    <tr>\n",
              "      <th>1</th>\n",
              "      <td>7.8</td>\n",
              "      <td>0.88</td>\n",
              "      <td>0.00</td>\n",
              "      <td>2.6</td>\n",
              "      <td>0.098</td>\n",
              "      <td>25.0</td>\n",
              "      <td>67.0</td>\n",
              "      <td>0.9968</td>\n",
              "      <td>3.20</td>\n",
              "      <td>0.68</td>\n",
              "      <td>9.8</td>\n",
              "      <td>5</td>\n",
              "    </tr>\n",
              "    <tr>\n",
              "      <th>2</th>\n",
              "      <td>7.8</td>\n",
              "      <td>0.76</td>\n",
              "      <td>0.04</td>\n",
              "      <td>2.3</td>\n",
              "      <td>0.092</td>\n",
              "      <td>15.0</td>\n",
              "      <td>54.0</td>\n",
              "      <td>0.9970</td>\n",
              "      <td>3.26</td>\n",
              "      <td>0.65</td>\n",
              "      <td>9.8</td>\n",
              "      <td>5</td>\n",
              "    </tr>\n",
              "    <tr>\n",
              "      <th>3</th>\n",
              "      <td>11.2</td>\n",
              "      <td>0.28</td>\n",
              "      <td>0.56</td>\n",
              "      <td>1.9</td>\n",
              "      <td>0.075</td>\n",
              "      <td>17.0</td>\n",
              "      <td>60.0</td>\n",
              "      <td>0.9980</td>\n",
              "      <td>3.16</td>\n",
              "      <td>0.58</td>\n",
              "      <td>9.8</td>\n",
              "      <td>6</td>\n",
              "    </tr>\n",
              "    <tr>\n",
              "      <th>4</th>\n",
              "      <td>7.4</td>\n",
              "      <td>0.70</td>\n",
              "      <td>0.00</td>\n",
              "      <td>1.9</td>\n",
              "      <td>0.076</td>\n",
              "      <td>11.0</td>\n",
              "      <td>34.0</td>\n",
              "      <td>0.9978</td>\n",
              "      <td>3.51</td>\n",
              "      <td>0.56</td>\n",
              "      <td>9.4</td>\n",
              "      <td>5</td>\n",
              "    </tr>\n",
              "    <tr>\n",
              "      <th>5</th>\n",
              "      <td>7.4</td>\n",
              "      <td>0.66</td>\n",
              "      <td>0.00</td>\n",
              "      <td>1.8</td>\n",
              "      <td>0.075</td>\n",
              "      <td>13.0</td>\n",
              "      <td>40.0</td>\n",
              "      <td>0.9978</td>\n",
              "      <td>3.51</td>\n",
              "      <td>0.56</td>\n",
              "      <td>9.4</td>\n",
              "      <td>5</td>\n",
              "    </tr>\n",
              "    <tr>\n",
              "      <th>6</th>\n",
              "      <td>7.9</td>\n",
              "      <td>0.60</td>\n",
              "      <td>0.06</td>\n",
              "      <td>1.6</td>\n",
              "      <td>0.069</td>\n",
              "      <td>15.0</td>\n",
              "      <td>59.0</td>\n",
              "      <td>0.9964</td>\n",
              "      <td>3.30</td>\n",
              "      <td>0.46</td>\n",
              "      <td>9.4</td>\n",
              "      <td>5</td>\n",
              "    </tr>\n",
              "    <tr>\n",
              "      <th>7</th>\n",
              "      <td>7.3</td>\n",
              "      <td>0.65</td>\n",
              "      <td>0.00</td>\n",
              "      <td>1.2</td>\n",
              "      <td>0.065</td>\n",
              "      <td>15.0</td>\n",
              "      <td>21.0</td>\n",
              "      <td>0.9946</td>\n",
              "      <td>3.39</td>\n",
              "      <td>0.47</td>\n",
              "      <td>10.0</td>\n",
              "      <td>7</td>\n",
              "    </tr>\n",
              "    <tr>\n",
              "      <th>8</th>\n",
              "      <td>7.8</td>\n",
              "      <td>0.58</td>\n",
              "      <td>0.02</td>\n",
              "      <td>2.0</td>\n",
              "      <td>0.073</td>\n",
              "      <td>9.0</td>\n",
              "      <td>18.0</td>\n",
              "      <td>0.9968</td>\n",
              "      <td>3.36</td>\n",
              "      <td>0.57</td>\n",
              "      <td>9.5</td>\n",
              "      <td>7</td>\n",
              "    </tr>\n",
              "    <tr>\n",
              "      <th>9</th>\n",
              "      <td>7.5</td>\n",
              "      <td>0.50</td>\n",
              "      <td>0.36</td>\n",
              "      <td>6.1</td>\n",
              "      <td>0.071</td>\n",
              "      <td>17.0</td>\n",
              "      <td>102.0</td>\n",
              "      <td>0.9978</td>\n",
              "      <td>3.35</td>\n",
              "      <td>0.80</td>\n",
              "      <td>10.5</td>\n",
              "      <td>5</td>\n",
              "    </tr>\n",
              "  </tbody>\n",
              "</table>\n",
              "</div>"
            ],
            "text/plain": [
              "   fixed acidity  volatile acidity  citric acid  ...  sulphates  alcohol  quality\n",
              "0            7.4              0.70         0.00  ...       0.56      9.4        5\n",
              "1            7.8              0.88         0.00  ...       0.68      9.8        5\n",
              "2            7.8              0.76         0.04  ...       0.65      9.8        5\n",
              "3           11.2              0.28         0.56  ...       0.58      9.8        6\n",
              "4            7.4              0.70         0.00  ...       0.56      9.4        5\n",
              "5            7.4              0.66         0.00  ...       0.56      9.4        5\n",
              "6            7.9              0.60         0.06  ...       0.46      9.4        5\n",
              "7            7.3              0.65         0.00  ...       0.47     10.0        7\n",
              "8            7.8              0.58         0.02  ...       0.57      9.5        7\n",
              "9            7.5              0.50         0.36  ...       0.80     10.5        5\n",
              "\n",
              "[10 rows x 12 columns]"
            ]
          },
          "metadata": {},
          "execution_count": 2
        }
      ]
    },
    {
      "cell_type": "markdown",
      "metadata": {
        "id": "-dfi_dYVO9bZ"
      },
      "source": [
        "### No of Rows and columns in dataset"
      ]
    },
    {
      "cell_type": "code",
      "metadata": {
        "colab": {
          "base_uri": "https://localhost:8080/"
        },
        "id": "ksH9-JLSI4Qp",
        "outputId": "5c978c95-a79d-4210-c786-25bbdf9c4ad9"
      },
      "source": [
        "df.shape"
      ],
      "execution_count": null,
      "outputs": [
        {
          "output_type": "execute_result",
          "data": {
            "text/plain": [
              "(1599, 12)"
            ]
          },
          "metadata": {},
          "execution_count": 3
        }
      ]
    },
    {
      "cell_type": "markdown",
      "metadata": {
        "id": "sGotIMsZPOwm"
      },
      "source": [
        "### Replace \" \" with \"_\" for each column"
      ]
    },
    {
      "cell_type": "code",
      "metadata": {
        "id": "sHQwM6HCJB0o"
      },
      "source": [
        "df.columns = df.columns.str.replace(' ', '_')"
      ],
      "execution_count": null,
      "outputs": []
    },
    {
      "cell_type": "markdown",
      "metadata": {
        "id": "wfIAUWEAPhlM"
      },
      "source": [
        "### Checking for any missing values and object data types\n"
      ]
    },
    {
      "cell_type": "code",
      "metadata": {
        "colab": {
          "base_uri": "https://localhost:8080/"
        },
        "id": "2IcJODlEJEx3",
        "outputId": "bbdcd361-d4a1-4e77-b433-7d84c51eb2bc"
      },
      "source": [
        "df.info()\n",
        "df.isnull().sum()"
      ],
      "execution_count": null,
      "outputs": [
        {
          "output_type": "stream",
          "text": [
            "<class 'pandas.core.frame.DataFrame'>\n",
            "RangeIndex: 1599 entries, 0 to 1598\n",
            "Data columns (total 12 columns):\n",
            " #   Column                Non-Null Count  Dtype  \n",
            "---  ------                --------------  -----  \n",
            " 0   fixed_acidity         1599 non-null   float64\n",
            " 1   volatile_acidity      1599 non-null   float64\n",
            " 2   citric_acid           1599 non-null   float64\n",
            " 3   residual_sugar        1599 non-null   float64\n",
            " 4   chlorides             1599 non-null   float64\n",
            " 5   free_sulfur_dioxide   1599 non-null   float64\n",
            " 6   total_sulfur_dioxide  1599 non-null   float64\n",
            " 7   density               1599 non-null   float64\n",
            " 8   pH                    1599 non-null   float64\n",
            " 9   sulphates             1599 non-null   float64\n",
            " 10  alcohol               1599 non-null   float64\n",
            " 11  quality               1599 non-null   int64  \n",
            "dtypes: float64(11), int64(1)\n",
            "memory usage: 150.0 KB\n"
          ],
          "name": "stdout"
        },
        {
          "output_type": "execute_result",
          "data": {
            "text/plain": [
              "fixed_acidity           0\n",
              "volatile_acidity        0\n",
              "citric_acid             0\n",
              "residual_sugar          0\n",
              "chlorides               0\n",
              "free_sulfur_dioxide     0\n",
              "total_sulfur_dioxide    0\n",
              "density                 0\n",
              "pH                      0\n",
              "sulphates               0\n",
              "alcohol                 0\n",
              "quality                 0\n",
              "dtype: int64"
            ]
          },
          "metadata": {},
          "execution_count": 5
        }
      ]
    },
    {
      "cell_type": "markdown",
      "metadata": {
        "id": "vtbkuzqvQWyr"
      },
      "source": [
        "### Checking different statistical measures for each attribute"
      ]
    },
    {
      "cell_type": "code",
      "metadata": {
        "colab": {
          "base_uri": "https://localhost:8080/",
          "height": 418
        },
        "id": "yicJxYVdQNuP",
        "outputId": "c1a7b24c-0de8-4c10-d8eb-17af18416b39"
      },
      "source": [
        "df.describe().T"
      ],
      "execution_count": null,
      "outputs": [
        {
          "output_type": "execute_result",
          "data": {
            "text/html": [
              "<div>\n",
              "<style scoped>\n",
              "    .dataframe tbody tr th:only-of-type {\n",
              "        vertical-align: middle;\n",
              "    }\n",
              "\n",
              "    .dataframe tbody tr th {\n",
              "        vertical-align: top;\n",
              "    }\n",
              "\n",
              "    .dataframe thead th {\n",
              "        text-align: right;\n",
              "    }\n",
              "</style>\n",
              "<table border=\"1\" class=\"dataframe\">\n",
              "  <thead>\n",
              "    <tr style=\"text-align: right;\">\n",
              "      <th></th>\n",
              "      <th>count</th>\n",
              "      <th>mean</th>\n",
              "      <th>std</th>\n",
              "      <th>min</th>\n",
              "      <th>25%</th>\n",
              "      <th>50%</th>\n",
              "      <th>75%</th>\n",
              "      <th>max</th>\n",
              "    </tr>\n",
              "  </thead>\n",
              "  <tbody>\n",
              "    <tr>\n",
              "      <th>fixed_acidity</th>\n",
              "      <td>1599.0</td>\n",
              "      <td>8.319637</td>\n",
              "      <td>1.741096</td>\n",
              "      <td>4.60000</td>\n",
              "      <td>7.1000</td>\n",
              "      <td>7.90000</td>\n",
              "      <td>9.200000</td>\n",
              "      <td>15.90000</td>\n",
              "    </tr>\n",
              "    <tr>\n",
              "      <th>volatile_acidity</th>\n",
              "      <td>1599.0</td>\n",
              "      <td>0.527821</td>\n",
              "      <td>0.179060</td>\n",
              "      <td>0.12000</td>\n",
              "      <td>0.3900</td>\n",
              "      <td>0.52000</td>\n",
              "      <td>0.640000</td>\n",
              "      <td>1.58000</td>\n",
              "    </tr>\n",
              "    <tr>\n",
              "      <th>citric_acid</th>\n",
              "      <td>1599.0</td>\n",
              "      <td>0.270976</td>\n",
              "      <td>0.194801</td>\n",
              "      <td>0.00000</td>\n",
              "      <td>0.0900</td>\n",
              "      <td>0.26000</td>\n",
              "      <td>0.420000</td>\n",
              "      <td>1.00000</td>\n",
              "    </tr>\n",
              "    <tr>\n",
              "      <th>residual_sugar</th>\n",
              "      <td>1599.0</td>\n",
              "      <td>2.538806</td>\n",
              "      <td>1.409928</td>\n",
              "      <td>0.90000</td>\n",
              "      <td>1.9000</td>\n",
              "      <td>2.20000</td>\n",
              "      <td>2.600000</td>\n",
              "      <td>15.50000</td>\n",
              "    </tr>\n",
              "    <tr>\n",
              "      <th>chlorides</th>\n",
              "      <td>1599.0</td>\n",
              "      <td>0.087467</td>\n",
              "      <td>0.047065</td>\n",
              "      <td>0.01200</td>\n",
              "      <td>0.0700</td>\n",
              "      <td>0.07900</td>\n",
              "      <td>0.090000</td>\n",
              "      <td>0.61100</td>\n",
              "    </tr>\n",
              "    <tr>\n",
              "      <th>free_sulfur_dioxide</th>\n",
              "      <td>1599.0</td>\n",
              "      <td>15.874922</td>\n",
              "      <td>10.460157</td>\n",
              "      <td>1.00000</td>\n",
              "      <td>7.0000</td>\n",
              "      <td>14.00000</td>\n",
              "      <td>21.000000</td>\n",
              "      <td>72.00000</td>\n",
              "    </tr>\n",
              "    <tr>\n",
              "      <th>total_sulfur_dioxide</th>\n",
              "      <td>1599.0</td>\n",
              "      <td>46.467792</td>\n",
              "      <td>32.895324</td>\n",
              "      <td>6.00000</td>\n",
              "      <td>22.0000</td>\n",
              "      <td>38.00000</td>\n",
              "      <td>62.000000</td>\n",
              "      <td>289.00000</td>\n",
              "    </tr>\n",
              "    <tr>\n",
              "      <th>density</th>\n",
              "      <td>1599.0</td>\n",
              "      <td>0.996747</td>\n",
              "      <td>0.001887</td>\n",
              "      <td>0.99007</td>\n",
              "      <td>0.9956</td>\n",
              "      <td>0.99675</td>\n",
              "      <td>0.997835</td>\n",
              "      <td>1.00369</td>\n",
              "    </tr>\n",
              "    <tr>\n",
              "      <th>pH</th>\n",
              "      <td>1599.0</td>\n",
              "      <td>3.311113</td>\n",
              "      <td>0.154386</td>\n",
              "      <td>2.74000</td>\n",
              "      <td>3.2100</td>\n",
              "      <td>3.31000</td>\n",
              "      <td>3.400000</td>\n",
              "      <td>4.01000</td>\n",
              "    </tr>\n",
              "    <tr>\n",
              "      <th>sulphates</th>\n",
              "      <td>1599.0</td>\n",
              "      <td>0.658149</td>\n",
              "      <td>0.169507</td>\n",
              "      <td>0.33000</td>\n",
              "      <td>0.5500</td>\n",
              "      <td>0.62000</td>\n",
              "      <td>0.730000</td>\n",
              "      <td>2.00000</td>\n",
              "    </tr>\n",
              "    <tr>\n",
              "      <th>alcohol</th>\n",
              "      <td>1599.0</td>\n",
              "      <td>10.422983</td>\n",
              "      <td>1.065668</td>\n",
              "      <td>8.40000</td>\n",
              "      <td>9.5000</td>\n",
              "      <td>10.20000</td>\n",
              "      <td>11.100000</td>\n",
              "      <td>14.90000</td>\n",
              "    </tr>\n",
              "    <tr>\n",
              "      <th>quality</th>\n",
              "      <td>1599.0</td>\n",
              "      <td>5.636023</td>\n",
              "      <td>0.807569</td>\n",
              "      <td>3.00000</td>\n",
              "      <td>5.0000</td>\n",
              "      <td>6.00000</td>\n",
              "      <td>6.000000</td>\n",
              "      <td>8.00000</td>\n",
              "    </tr>\n",
              "  </tbody>\n",
              "</table>\n",
              "</div>"
            ],
            "text/plain": [
              "                       count       mean  ...        75%        max\n",
              "fixed_acidity         1599.0   8.319637  ...   9.200000   15.90000\n",
              "volatile_acidity      1599.0   0.527821  ...   0.640000    1.58000\n",
              "citric_acid           1599.0   0.270976  ...   0.420000    1.00000\n",
              "residual_sugar        1599.0   2.538806  ...   2.600000   15.50000\n",
              "chlorides             1599.0   0.087467  ...   0.090000    0.61100\n",
              "free_sulfur_dioxide   1599.0  15.874922  ...  21.000000   72.00000\n",
              "total_sulfur_dioxide  1599.0  46.467792  ...  62.000000  289.00000\n",
              "density               1599.0   0.996747  ...   0.997835    1.00369\n",
              "pH                    1599.0   3.311113  ...   3.400000    4.01000\n",
              "sulphates             1599.0   0.658149  ...   0.730000    2.00000\n",
              "alcohol               1599.0  10.422983  ...  11.100000   14.90000\n",
              "quality               1599.0   5.636023  ...   6.000000    8.00000\n",
              "\n",
              "[12 rows x 8 columns]"
            ]
          },
          "metadata": {},
          "execution_count": 6
        }
      ]
    },
    {
      "cell_type": "markdown",
      "metadata": {
        "id": "bODZ6o4fP0SW"
      },
      "source": [
        "### Using countplot to see quality distribution among wine samples in the dataset "
      ]
    },
    {
      "cell_type": "code",
      "metadata": {
        "colab": {
          "base_uri": "https://localhost:8080/",
          "height": 450
        },
        "id": "Snvot6VeJIbX",
        "outputId": "a4e79342-7248-4df6-bebb-a68cae6cd0b6"
      },
      "source": [
        "sns.countplot(df['quality'])\n",
        "df['quality'].value_counts()"
      ],
      "execution_count": null,
      "outputs": [
        {
          "output_type": "stream",
          "text": [
            "/usr/local/lib/python3.7/dist-packages/seaborn/_decorators.py:43: FutureWarning: Pass the following variable as a keyword arg: x. From version 0.12, the only valid positional argument will be `data`, and passing other arguments without an explicit keyword will result in an error or misinterpretation.\n",
            "  FutureWarning\n"
          ],
          "name": "stderr"
        },
        {
          "output_type": "execute_result",
          "data": {
            "text/plain": [
              "5    681\n",
              "6    638\n",
              "7    199\n",
              "4     53\n",
              "8     18\n",
              "3     10\n",
              "Name: quality, dtype: int64"
            ]
          },
          "metadata": {},
          "execution_count": 7
        },
        {
          "output_type": "display_data",
          "data": {
            "image/png": "[encoded data removed]",
            "text/plain": [
              "<Figure size 432x288 with 1 Axes>"
            ]
          },
          "metadata": {
            "needs_background": "light"
          }
        }
      ]
    },
    {
      "cell_type": "markdown",
      "metadata": {
        "id": "Spjqh_YfQtvl"
      },
      "source": [
        "### Checking correlation between quality and other attributes"
      ]
    },
    {
      "cell_type": "code",
      "metadata": {
        "colab": {
          "base_uri": "https://localhost:8080/"
        },
        "id": "tgLEXMR5JPjS",
        "outputId": "41b4d46c-f483-4730-fe5e-b05dad807008"
      },
      "source": [
        "correlations = df.corr()['quality'].sort_values(ascending=False)\n",
        "correlations"
      ],
      "execution_count": null,
      "outputs": [
        {
          "output_type": "execute_result",
          "data": {
            "text/plain": [
              "quality                 1.000000\n",
              "alcohol                 0.476166\n",
              "sulphates               0.251397\n",
              "citric_acid             0.226373\n",
              "fixed_acidity           0.124052\n",
              "residual_sugar          0.013732\n",
              "free_sulfur_dioxide    -0.050656\n",
              "pH                     -0.057731\n",
              "chlorides              -0.128907\n",
              "density                -0.174919\n",
              "total_sulfur_dioxide   -0.185100\n",
              "volatile_acidity       -0.390558\n",
              "Name: quality, dtype: float64"
            ]
          },
          "metadata": {},
          "execution_count": 8
        }
      ]
    },
    {
      "cell_type": "markdown",
      "metadata": {
        "id": "rxkaC4V5RIwn"
      },
      "source": [
        "### Visualizing above using barplot "
      ]
    },
    {
      "cell_type": "code",
      "metadata": {
        "colab": {
          "base_uri": "https://localhost:8080/",
          "height": 370
        },
        "id": "hKyWBWYCJd_O",
        "outputId": "3515b367-6d70-4155-ed22-a44941e8a957"
      },
      "source": [
        "correlations.plot(kind='bar')"
      ],
      "execution_count": null,
      "outputs": [
        {
          "output_type": "execute_result",
          "data": {
            "text/plain": [
              "<matplotlib.axes._subplots.AxesSubplot at 0x7f277f759790>"
            ]
          },
          "metadata": {},
          "execution_count": 9
        },
        {
          "output_type": "display_data",
          "data": {
            "image/png": "[encoded data removed]",
            "text/plain": [
              "<Figure size 432x288 with 1 Axes>"
            ]
          },
          "metadata": {
            "needs_background": "light"
          }
        }
      ]
    },
    {
      "cell_type": "markdown",
      "metadata": {
        "id": "CurmWzEiRbEo"
      },
      "source": [
        "### Plotting correlation matrix and visualizing using heatmap"
      ]
    },
    {
      "cell_type": "code",
      "metadata": {
        "colab": {
          "base_uri": "https://localhost:8080/",
          "height": 483
        },
        "id": "rB0zme4xJkaF",
        "outputId": "45e52c14-1559-4c90-a462-9d5103c14bd0"
      },
      "source": [
        "plt.figure(figsize=(10,6))\n",
        "sns.heatmap(df.corr(), annot=True, fmt='.0%')"
      ],
      "execution_count": null,
      "outputs": [
        {
          "output_type": "execute_result",
          "data": {
            "text/plain": [
              "<matplotlib.axes._subplots.AxesSubplot at 0x7f277f742590>"
            ]
          },
          "metadata": {},
          "execution_count": 10
        },
        {
          "output_type": "display_data",
          "data": {
            "image/png": "[encoded data removed]",
            "text/plain": [
              "<Figure size 720x432 with 2 Axes>"
            ]
          },
          "metadata": {
            "needs_background": "light"
          }
        }
      ]
    },
    {
      "cell_type": "markdown",
      "metadata": {
        "id": "NfQvGhfhR9BD"
      },
      "source": [
        "### Using threshold value of 0.2 to find out strong correation features"
      ]
    },
    {
      "cell_type": "code",
      "metadata": {
        "colab": {
          "base_uri": "https://localhost:8080/"
        },
        "id": "uOB6NPtpJrZQ",
        "outputId": "c95c997c-4139-4088-eccd-e084717c57f9"
      },
      "source": [
        "print(abs(correlations) > 0.2)"
      ],
      "execution_count": null,
      "outputs": [
        {
          "output_type": "stream",
          "text": [
            "quality                  True\n",
            "alcohol                  True\n",
            "sulphates                True\n",
            "citric_acid              True\n",
            "fixed_acidity           False\n",
            "residual_sugar          False\n",
            "free_sulfur_dioxide     False\n",
            "pH                      False\n",
            "chlorides               False\n",
            "density                 False\n",
            "total_sulfur_dioxide    False\n",
            "volatile_acidity         True\n",
            "Name: quality, dtype: bool\n"
          ],
          "name": "stdout"
        }
      ]
    },
    {
      "cell_type": "markdown",
      "metadata": {
        "id": "BTpX14OwSbmm"
      },
      "source": [
        "### Plotting boxplot between quality and alcohol"
      ]
    },
    {
      "cell_type": "code",
      "metadata": {
        "colab": {
          "base_uri": "https://localhost:8080/",
          "height": 312
        },
        "id": "KsM4iaQLJu_A",
        "outputId": "faa614bc-dbab-4f28-de80-5f056b69cf3c"
      },
      "source": [
        "bp = sns.boxplot(x='quality',y='alcohol', data=df)\n",
        "bp.set(title=\"Alcohol Percent in Different Quality Wines\")"
      ],
      "execution_count": null,
      "outputs": [
        {
          "output_type": "execute_result",
          "data": {
            "text/plain": [
              "[Text(0.5, 1.0, 'Alcohol Percent in Different Quality Wines')]"
            ]
          },
          "metadata": {},
          "execution_count": 11
        },
        {
          "output_type": "display_data",
          "data": {
            "image/png": "[encoded data removed]",
            "text/plain": [
              "<Figure size 432x288 with 1 Axes>"
            ]
          },
          "metadata": {
            "needs_background": "light"
          }
        }
      ]
    },
    {
      "cell_type": "markdown",
      "metadata": {
        "id": "sU2zG2MsSk0a"
      },
      "source": [
        "### Creating subest of quality 5 and 6 values"
      ]
    },
    {
      "cell_type": "code",
      "metadata": {
        "colab": {
          "base_uri": "https://localhost:8080/"
        },
        "id": "-AIy3uy3J3WH",
        "outputId": "31be0963-6f04-47d6-9959-6edf69e7bd45"
      },
      "source": [
        "df_quality_five_six = df.loc[(df['quality'] >= 5) & (df['quality'] <= 6)]\n",
        "df_quality_five_six['quality'].value_counts()"
      ],
      "execution_count": null,
      "outputs": [
        {
          "output_type": "execute_result",
          "data": {
            "text/plain": [
              "5    681\n",
              "6    638\n",
              "Name: quality, dtype: int64"
            ]
          },
          "metadata": {},
          "execution_count": 12
        }
      ]
    },
    {
      "cell_type": "markdown",
      "metadata": {
        "id": "c81T13PMS_OE"
      },
      "source": [
        "### Correlation values in subset between quality andother attributes"
      ]
    },
    {
      "cell_type": "code",
      "metadata": {
        "colab": {
          "base_uri": "https://localhost:8080/"
        },
        "id": "B-Q_AmpHKJds",
        "outputId": "50c9e6ea-0947-4669-efad-5751db3e6395"
      },
      "source": [
        "correlations_subset = df_quality_five_six.corr()['quality'].sort_values(ascending=False)\n",
        "correlations_subset"
      ],
      "execution_count": null,
      "outputs": [
        {
          "output_type": "execute_result",
          "data": {
            "text/plain": [
              "quality                 1.000000\n",
              "alcohol                 0.375224\n",
              "sulphates               0.162405\n",
              "citric_acid             0.080146\n",
              "fixed_acidity           0.053447\n",
              "pH                      0.043065\n",
              "residual_sugar         -0.018452\n",
              "free_sulfur_dioxide    -0.060618\n",
              "chlorides              -0.081813\n",
              "density                -0.134559\n",
              "volatile_acidity       -0.237193\n",
              "total_sulfur_dioxide   -0.239067\n",
              "Name: quality, dtype: float64"
            ]
          },
          "metadata": {},
          "execution_count": 13
        }
      ]
    },
    {
      "cell_type": "markdown",
      "metadata": {
        "id": "z1MluoPtTMgY"
      },
      "source": [
        "### Checking Sulphates and Citric Acid Presence in dataset"
      ]
    },
    {
      "cell_type": "code",
      "metadata": {
        "colab": {
          "base_uri": "https://localhost:8080/",
          "height": 312
        },
        "id": "iKQ0n009KM8G",
        "outputId": "cb7f1be6-ee94-4bf3-bd42-4c6291bc5088"
      },
      "source": [
        "bp = sns.boxplot(x='quality',y='sulphates', data=df)\n",
        "bp.set(title=\"Sulphates in Different Quality Wines\")"
      ],
      "execution_count": null,
      "outputs": [
        {
          "output_type": "execute_result",
          "data": {
            "text/plain": [
              "[Text(0.5, 1.0, 'Sulphates in Different Quality Wines')]"
            ]
          },
          "metadata": {},
          "execution_count": 14
        },
        {
          "output_type": "display_data",
          "data": {
            "image/png": "[encoded data removed]",
            "text/plain": [
              "<Figure size 432x288 with 1 Axes>"
            ]
          },
          "metadata": {
            "needs_background": "light"
          }
        }
      ]
    },
    {
      "cell_type": "code",
      "metadata": {
        "colab": {
          "base_uri": "https://localhost:8080/",
          "height": 312
        },
        "id": "5Qz82kZtKSrW",
        "outputId": "7fbb4d4c-3350-4c14-e7e3-0a603f51b47d"
      },
      "source": [
        "bp = sns.boxplot(x='quality',y='citric_acid', data=df)\n",
        "bp.set(title=\"Citric Acid in Different Quality Wines\")"
      ],
      "execution_count": null,
      "outputs": [
        {
          "output_type": "execute_result",
          "data": {
            "text/plain": [
              "[Text(0.5, 1.0, 'Citric Acid in Different Quality Wines')]"
            ]
          },
          "metadata": {},
          "execution_count": 15
        },
        {
          "output_type": "display_data",
          "data": {
            "image/png": "[encoded data removed]",
            "text/plain": [
              "<Figure size 432x288 with 1 Axes>"
            ]
          },
          "metadata": {
            "needs_background": "light"
          }
        }
      ]
    },
    {
      "cell_type": "markdown",
      "metadata": {
        "id": "zcBV0RIVTk47"
      },
      "source": [
        "### Checking presence of acetic acid"
      ]
    },
    {
      "cell_type": "code",
      "metadata": {
        "colab": {
          "base_uri": "https://localhost:8080/",
          "height": 312
        },
        "id": "lUcbIMpQKcG7",
        "outputId": "a3b33bcf-2f98-4f5d-f27d-19bd36277092"
      },
      "source": [
        "bp = sns.boxplot(x='quality',y='volatile_acidity', data=df)\n",
        "bp.set(title=\"Acetic Acid Presence in Different Quality Wines\")"
      ],
      "execution_count": null,
      "outputs": [
        {
          "output_type": "execute_result",
          "data": {
            "text/plain": [
              "[Text(0.5, 1.0, 'Acetic Acid Presence in Different Quality Wines')]"
            ]
          },
          "metadata": {},
          "execution_count": 16
        },
        {
          "output_type": "display_data",
          "data": {
            "image/png": "[encoded data removed]",
            "text/plain": [
              "<Figure size 432x288 with 1 Axes>"
            ]
          },
          "metadata": {
            "needs_background": "light"
          }
        }
      ]
    },
    {
      "cell_type": "markdown",
      "metadata": {
        "id": "8E-1LOaWT3iw"
      },
      "source": [
        "### Creating categories of low,medium and high for the different quality values"
      ]
    },
    {
      "cell_type": "code",
      "metadata": {
        "id": "EC2D00h3KjDW"
      },
      "source": [
        "df_aux = df.copy()\n",
        "df_aux['quality'].replace([3,4],['low','low'],inplace=True)\n",
        "df_aux['quality'].replace([5,6],['med','med'],inplace=True)\n",
        "df_aux['quality'].replace([7,8],['high','high'],inplace=True)"
      ],
      "execution_count": null,
      "outputs": []
    },
    {
      "cell_type": "markdown",
      "metadata": {
        "id": "Vhft6eVwUATe"
      },
      "source": [
        "### Checking distribution for the new categories"
      ]
    },
    {
      "cell_type": "code",
      "metadata": {
        "colab": {
          "base_uri": "https://localhost:8080/",
          "height": 350
        },
        "id": "Uaf-4bkRKr_Y",
        "outputId": "fe0c93c2-5188-49d3-bc6c-ab4ca82ada69"
      },
      "source": [
        "sns.countplot(df_aux['quality'])"
      ],
      "execution_count": null,
      "outputs": [
        {
          "output_type": "stream",
          "text": [
            "/usr/local/lib/python3.7/dist-packages/seaborn/_decorators.py:43: FutureWarning: Pass the following variable as a keyword arg: x. From version 0.12, the only valid positional argument will be `data`, and passing other arguments without an explicit keyword will result in an error or misinterpretation.\n",
            "  FutureWarning\n"
          ],
          "name": "stderr"
        },
        {
          "output_type": "execute_result",
          "data": {
            "text/plain": [
              "<matplotlib.axes._subplots.AxesSubplot at 0x7f27746f0f10>"
            ]
          },
          "metadata": {},
          "execution_count": 18
        },
        {
          "output_type": "display_data",
          "data": {
            "image/png": "[encoded data removed]",
            "text/plain": [
              "<Figure size 432x288 with 1 Axes>"
            ]
          },
          "metadata": {
            "needs_background": "light"
          }
        }
      ]
    },
    {
      "cell_type": "markdown",
      "metadata": {
        "id": "0xhAi5rFUPST"
      },
      "source": [
        "### Visualizing behaviour of different attributes with quality"
      ]
    },
    {
      "cell_type": "code",
      "metadata": {
        "colab": {
          "base_uri": "https://localhost:8080/",
          "height": 500
        },
        "id": "Tt_MonqoKuh0",
        "outputId": "d0bbb431-10a0-4cb3-c7f1-7896350edd47"
      },
      "source": [
        "flistt = ['alcohol','sulphates','citric_acid','volatile_acidity']\n",
        "low = df_aux[df_aux['quality'] == 'low']\n",
        "medium = df_aux[df_aux['quality'] == 'med']\n",
        "high = df_aux[df_aux['quality'] == 'high']\n",
        "plt.rcParams.update({'font.size': 8})\n",
        "plot, graphs = plt.subplots(nrows= 2, ncols= 2, figsize=(12,6))\n",
        "graphs = graphs.flatten()\n",
        "for i, graph in enumerate(graphs):\n",
        "    graph.figure\n",
        "    binwidth= (max(df_aux[flistt[i]]) - min(df_aux[flistt[i]]))/30\n",
        "    bins = np.arange(min(df[flistt[i]]), max(df_aux[flistt[i]]) + binwidth, binwidth)\n",
        "    graph.hist([low[flistt[i]],medium[flistt[i]],high[flistt[i]]], bins=bins, alpha=0.6, density=True, label=['Low','Medium','High'], color=['red','green','blue'])\n",
        "    graph.legend(loc='upper right')\n",
        "    graph.set_title(flistt[i])\n",
        "plt.tight_layout()"
      ],
      "execution_count": null,
      "outputs": [
        {
          "output_type": "stream",
          "text": [
            "/usr/local/lib/python3.7/dist-packages/numpy/core/_asarray.py:83: VisibleDeprecationWarning: Creating an ndarray from ragged nested sequences (which is a list-or-tuple of lists-or-tuples-or ndarrays with different lengths or shapes) is deprecated. If you meant to do this, you must specify 'dtype=object' when creating the ndarray\n",
            "  return array(a, dtype, copy=False, order=order)\n"
          ],
          "name": "stderr"
        },
        {
          "output_type": "display_data",
          "data": {
            "image/png": "[encoded data removed]",
            "text/plain": [
              "<Figure size 864x432 with 4 Axes>"
            ]
          },
          "metadata": {
            "needs_background": "light"
          }
        }
      ]
    },
    {
      "cell_type": "markdown",
      "metadata": {
        "id": "ePcivhubUY-N"
      },
      "source": [
        "### Feature Selection"
      ]
    },
    {
      "cell_type": "code",
      "metadata": {
        "colab": {
          "base_uri": "https://localhost:8080/"
        },
        "id": "D-OxW1QHLFBc",
        "outputId": "ec584c26-9fe8-4fad-fd94-d4fe81ba4725"
      },
      "source": [
        "correlations[abs(correlations) > 0.2]"
      ],
      "execution_count": null,
      "outputs": [
        {
          "output_type": "execute_result",
          "data": {
            "text/plain": [
              "quality             1.000000\n",
              "alcohol             0.476166\n",
              "sulphates           0.251397\n",
              "citric_acid         0.226373\n",
              "volatile_acidity   -0.390558\n",
              "Name: quality, dtype: float64"
            ]
          },
          "metadata": {},
          "execution_count": 20
        }
      ]
    },
    {
      "cell_type": "markdown",
      "metadata": {
        "id": "DGatuPiAU4SM"
      },
      "source": [
        "### Estimating quality using Linear Regression, Decision Tree Rregressor and Random Forest Regressor"
      ]
    },
    {
      "cell_type": "markdown",
      "metadata": {
        "id": "GPweiLsVVDE2"
      },
      "source": [
        "#### Dividing data into training and test set"
      ]
    },
    {
      "cell_type": "code",
      "metadata": {
        "id": "enZ7AdyULtCd"
      },
      "source": [
        "X = df.loc[:,['alcohol','sulphates','citric_acid','volatile_acidity']]\n",
        "Y = df.iloc[:,11]\n",
        "\n",
        "X_train, X_test, y_train, y_test = train_test_split(X, Y, test_size=0.3, random_state=42)"
      ],
      "execution_count": null,
      "outputs": []
    },
    {
      "cell_type": "markdown",
      "metadata": {
        "id": "jVGHaWrGVJ-D"
      },
      "source": [
        "#### Linear Regression"
      ]
    },
    {
      "cell_type": "code",
      "metadata": {
        "id": "2QnbTXRCLxU1"
      },
      "source": [
        "regressor = LinearRegression()\n",
        "regressor.fit(X_train, y_train)\n",
        "y_prediction_lr = regressor.predict(X_test)\n",
        "y_prediction_lr = np.round(y_prediction_lr)"
      ],
      "execution_count": null,
      "outputs": []
    },
    {
      "cell_type": "code",
      "metadata": {
        "colab": {
          "base_uri": "https://localhost:8080/",
          "height": 291
        },
        "id": "f7JFbyl-L4HY",
        "outputId": "7b6141b4-4e81-415f-ca2f-a962486a5c3c"
      },
      "source": [
        "plt.scatter(y_test,y_prediction_lr)\n",
        "plt.title(\"Prediction Using Linear Regression\")\n",
        "plt.xlabel(\"Real Quality\")\n",
        "plt.ylabel(\"Predicted\")\n",
        "plt.show()"
      ],
      "execution_count": null,
      "outputs": [
        {
          "output_type": "display_data",
          "data": {
            "image/png": "[encoded data removed]",
            "text/plain": [
              "<Figure size 432x288 with 1 Axes>"
            ]
          },
          "metadata": {
            "needs_background": "light"
          }
        }
      ]
    },
    {
      "cell_type": "markdown",
      "metadata": {
        "id": "Y4FFortWVRJy"
      },
      "source": [
        "#### Confusion Matrix for the Linear Regression Model"
      ]
    },
    {
      "cell_type": "code",
      "metadata": {
        "colab": {
          "base_uri": "https://localhost:8080/",
          "height": 294
        },
        "id": "I7_k-gHQL54l",
        "outputId": "3ae381a1-d046-479b-871a-96ef6a3fd9b1"
      },
      "source": [
        "label_aux = plt.subplot()\n",
        "cm_linear_regression = confusion_matrix(y_test,y_prediction_lr)\n",
        "cm_lr = pd.DataFrame(cm_linear_regression,\n",
        "                     index = ['3','4','5','6','7','8'], \n",
        "                     columns = ['3','4','5','6','7','8'])\n",
        "sns.heatmap(cm_lr,annot=True,fmt=\"d\")\n",
        "label_aux.set_xlabel('Predicted Quality')\n",
        "label_aux.set_ylabel('True Quality')"
      ],
      "execution_count": null,
      "outputs": [
        {
          "output_type": "execute_result",
          "data": {
            "text/plain": [
              "Text(34.0, 0.5, 'True Quality')"
            ]
          },
          "metadata": {},
          "execution_count": 24
        },
        {
          "output_type": "display_data",
          "data": {
            "image/png": "[encoded data removed]",
            "text/plain": [
              "<Figure size 432x288 with 2 Axes>"
            ]
          },
          "metadata": {
            "needs_background": "light"
          }
        }
      ]
    },
    {
      "cell_type": "markdown",
      "metadata": {
        "id": "y_WxQsI1VknE"
      },
      "source": [
        "#### Decision Tree Regressor"
      ]
    },
    {
      "cell_type": "code",
      "metadata": {
        "id": "ZPDlo6uLL9Ii"
      },
      "source": [
        "regressor = DecisionTreeRegressor()\n",
        "regressor.fit(X_train, y_train)\n",
        "y_prediction_dt = regressor.predict(X_test)\n",
        "y_prediction_dt = np.round(y_prediction_dt)"
      ],
      "execution_count": null,
      "outputs": []
    },
    {
      "cell_type": "code",
      "metadata": {
        "colab": {
          "base_uri": "https://localhost:8080/",
          "height": 291
        },
        "id": "mZh0WoxiMTPF",
        "outputId": "edec7017-13a0-4ffa-9694-ce0ea4ae6139"
      },
      "source": [
        "plt.scatter(y_test,y_prediction_dt)\n",
        "plt.title(\"Prediction Using Decision Tree Regression\")\n",
        "plt.xlabel(\"Real Quality\")\n",
        "plt.ylabel(\"Predicted\")\n",
        "plt.show()"
      ],
      "execution_count": null,
      "outputs": [
        {
          "output_type": "display_data",
          "data": {
            "image/png": "[encoded data removed]",
            "text/plain": [
              "<Figure size 432x288 with 1 Axes>"
            ]
          },
          "metadata": {
            "needs_background": "light"
          }
        }
      ]
    },
    {
      "cell_type": "markdown",
      "metadata": {
        "id": "sn9JZDhSVpgF"
      },
      "source": [
        "#### Confusion Matrix for the Decission Tree Regression Model"
      ]
    },
    {
      "cell_type": "code",
      "metadata": {
        "colab": {
          "base_uri": "https://localhost:8080/",
          "height": 277
        },
        "id": "OHJ144m3MWpi",
        "outputId": "efa3f208-ae6b-4a0e-942d-770d686ccff7"
      },
      "source": [
        "label_aux = plt.subplot()\n",
        "cm_decision_tree_regression = confusion_matrix(y_test,y_prediction_dt)\n",
        "cm_dt = pd.DataFrame(cm_decision_tree_regression,\n",
        "                     index = ['3','4','5','6','7','8'], \n",
        "                     columns = ['3','4','5','6','7','8'])\n",
        "sns.heatmap(cm_dt,annot=True,fmt=\"d\")\n",
        "label_aux.set_xlabel('Predicted Quality');label_aux.set_ylabel('True Quality');"
      ],
      "execution_count": null,
      "outputs": [
        {
          "output_type": "display_data",
          "data": {
            "image/png": "[encoded data removed]",
            "text/plain": [
              "<Figure size 432x288 with 2 Axes>"
            ]
          },
          "metadata": {
            "needs_background": "light"
          }
        }
      ]
    },
    {
      "cell_type": "markdown",
      "metadata": {
        "id": "ORdwrrnnVvHg"
      },
      "source": [
        "#### Random Forest Regressor"
      ]
    },
    {
      "cell_type": "code",
      "metadata": {
        "id": "UhB6mMa_MaGC"
      },
      "source": [
        "regressor = RandomForestRegressor(n_estimators=10,random_state = 42)\n",
        "regressor.fit(X_train, y_train)\n",
        "y_prediction_rf = regressor.predict(X_test)\n",
        "y_prediction_rf = np.round(y_prediction_rf)"
      ],
      "execution_count": null,
      "outputs": []
    },
    {
      "cell_type": "code",
      "metadata": {
        "colab": {
          "base_uri": "https://localhost:8080/",
          "height": 291
        },
        "id": "wFCqszNrMdAD",
        "outputId": "5f0fc8c8-818a-4268-b10d-ba11a0e4fa41"
      },
      "source": [
        "plt.scatter(y_test,y_prediction_rf)\n",
        "plt.title(\"Prediction Using Random Forest Regression\")\n",
        "plt.xlabel(\"Real Quality\")\n",
        "plt.ylabel(\"Predicted\")\n",
        "plt.show()"
      ],
      "execution_count": null,
      "outputs": [
        {
          "output_type": "display_data",
          "data": {
            "image/png": "[encoded data removed]",
            "text/plain": [
              "<Figure size 432x288 with 1 Axes>"
            ]
          },
          "metadata": {
            "needs_background": "light"
          }
        }
      ]
    },
    {
      "cell_type": "markdown",
      "metadata": {
        "id": "LPNwk-x4V1-F"
      },
      "source": [
        "#### Confusion Matrix for the Random Forest Regression Model\n"
      ]
    },
    {
      "cell_type": "code",
      "metadata": {
        "colab": {
          "base_uri": "https://localhost:8080/",
          "height": 294
        },
        "id": "ih8LRSmJMg7-",
        "outputId": "50c74bef-78a9-42c6-c18f-38a4543e81a5"
      },
      "source": [
        "label_aux = plt.subplot()\n",
        "cm_random_forest_regression = confusion_matrix(y_test,y_prediction_rf)\n",
        "cm_rf = pd.DataFrame(cm_random_forest_regression,\n",
        "                     index = ['3','4','5','6','7','8'], \n",
        "                     columns = ['3','4','5','6','7','8'])\n",
        "sns.heatmap(cm_rf,annot=True,fmt=\"d\")\n",
        "label_aux.set_xlabel('Predicted Quality');label_aux.set_ylabel('True Quality')"
      ],
      "execution_count": null,
      "outputs": [
        {
          "output_type": "execute_result",
          "data": {
            "text/plain": [
              "Text(34.0, 0.5, 'True Quality')"
            ]
          },
          "metadata": {},
          "execution_count": 30
        },
        {
          "output_type": "display_data",
          "data": {
            "image/png": "[encoded data removed]",
            "text/plain": [
              "<Figure size 432x288 with 2 Axes>"
            ]
          },
          "metadata": {
            "needs_background": "light"
          }
        }
      ]
    },
    {
      "cell_type": "markdown",
      "metadata": {
        "id": "o-URw-EEaKOS"
      },
      "source": [
        "### Finding accuracy for the different models"
      ]
    },
    {
      "cell_type": "code",
      "metadata": {
        "colab": {
          "base_uri": "https://localhost:8080/"
        },
        "id": "2zYdwDziaP5Q",
        "outputId": "9c7e370a-3694-44af-d148-245c4758a105"
      },
      "source": [
        "acc_lr = accuracy_score(y_test,y_prediction_lr)\n",
        "print(\"accuracy score for linear regresion is \",acc_lr,\"\\n\")\n",
        "acc_dt = accuracy_score(y_test,y_prediction_dt)\n",
        "print(\"accuracy score for decision tree is \",acc_dt,\"\\n\")\n",
        "acc_rf = accuracy_score(y_test,y_prediction_rf)\n",
        "print(\"accuracy score for random forest is \",acc_rf,\"\\n\")"
      ],
      "execution_count": null,
      "outputs": [
        {
          "output_type": "stream",
          "text": [
            "accuracy score for linear regresion is  0.5541666666666667 \n",
            "\n",
            "accuracy score for decision tree is  0.5625 \n",
            "\n",
            "accuracy score for random forest is  0.6041666666666666 \n",
            "\n"
          ],
          "name": "stdout"
        }
      ]
    },
    {
      "cell_type": "markdown",
      "metadata": {
        "id": "n7fvFB-kWDIH"
      },
      "source": [
        "### Finding root mean squared error for different models"
      ]
    },
    {
      "cell_type": "markdown",
      "metadata": {
        "id": "Gt4_JP_bWIy8"
      },
      "source": [
        "#### Linear Regression RMSE"
      ]
    },
    {
      "cell_type": "code",
      "metadata": {
        "colab": {
          "base_uri": "https://localhost:8080/"
        },
        "id": "g8lq6zdpMkQQ",
        "outputId": "ca498d41-8bb0-4643-c790-1405b14a4447"
      },
      "source": [
        "RMSE = sqrt(mean_squared_error(y_test, y_prediction_lr))\n",
        "print(RMSE)"
      ],
      "execution_count": null,
      "outputs": [
        {
          "output_type": "stream",
          "text": [
            "0.7085783889827104\n"
          ],
          "name": "stdout"
        }
      ]
    },
    {
      "cell_type": "markdown",
      "metadata": {
        "id": "rUoQmwt2WSMh"
      },
      "source": [
        "#### Decision Tree Regressor RMSE"
      ]
    },
    {
      "cell_type": "code",
      "metadata": {
        "colab": {
          "base_uri": "https://localhost:8080/"
        },
        "id": "DV5Q6IMzMsVe",
        "outputId": "d5d3435c-5ec3-4d65-c206-fb7cc583d310"
      },
      "source": [
        "RMSE = sqrt(mean_squared_error(y_test, y_prediction_dt))\n",
        "print(RMSE)"
      ],
      "execution_count": null,
      "outputs": [
        {
          "output_type": "stream",
          "text": [
            "0.8440971508067067\n"
          ],
          "name": "stdout"
        }
      ]
    },
    {
      "cell_type": "markdown",
      "metadata": {
        "id": "PIn07A6tWXeB"
      },
      "source": [
        "#### Random Forest Regression RMSE"
      ]
    },
    {
      "cell_type": "code",
      "metadata": {
        "colab": {
          "base_uri": "https://localhost:8080/"
        },
        "id": "PRQaSvaNMufV",
        "outputId": "ff352c40-8ae9-49b0-874f-dfde886aa8c4"
      },
      "source": [
        "RMSE = sqrt(mean_squared_error(y_test, y_prediction_rf))\n",
        "print(RMSE)"
      ],
      "execution_count": null,
      "outputs": [
        {
          "output_type": "stream",
          "text": [
            "0.699702317656111\n"
          ],
          "name": "stdout"
        }
      ]
    },
    {
      "cell_type": "markdown",
      "metadata": {
        "id": "MPgJLv9iWbcT"
      },
      "source": [
        "### Improving results using 1-Off Accuray"
      ]
    },
    {
      "cell_type": "code",
      "metadata": {
        "id": "ztv3dCNQMz-X"
      },
      "source": [
        "def one_accuracy(predicted, true):\n",
        "\ti = 0\n",
        "\tfor x,y in zip(predicted,true):\n",
        "\t\tif(abs(x-y)==1):\n",
        "\t\t\tpredicted[i] = y\n",
        "\t\ti = i + 1\n",
        "\n",
        "one_accuracy(y_prediction_lr, y_test)\n",
        "one_accuracy(y_prediction_dt, y_test)\n",
        "one_accuracy(y_prediction_rf, y_test)"
      ],
      "execution_count": null,
      "outputs": []
    },
    {
      "cell_type": "markdown",
      "metadata": {
        "id": "Pe6oYQp4WmsZ"
      },
      "source": [
        "#### Confusion Matrix for the Linear Regression Model"
      ]
    },
    {
      "cell_type": "code",
      "metadata": {
        "colab": {
          "base_uri": "https://localhost:8080/",
          "height": 298
        },
        "id": "F2h5O8mHNAhk",
        "outputId": "cffbb833-3673-4579-ab35-05593595fe4e"
      },
      "source": [
        "label_aux = plt.subplot()\n",
        "cm_linear_regression = confusion_matrix(y_test,y_prediction_lr)\n",
        "cm_lr = pd.DataFrame(cm_linear_regression,\n",
        "                     index = ['3','4','5','6','7','8'], \n",
        "                     columns = ['3','4','5','6','7','8'])\n",
        "sns.heatmap(cm_lr,annot=True,fmt=\"d\")\n",
        "label_aux.set_xlabel('Predicted Quality');label_aux.set_ylabel('True Quality')"
      ],
      "execution_count": null,
      "outputs": [
        {
          "output_type": "execute_result",
          "data": {
            "text/plain": [
              "Text(34.0, 0.5, 'True Quality')"
            ]
          },
          "metadata": {},
          "execution_count": 36
        },
        {
          "output_type": "display_data",
          "data": {
            "image/png": "[encoded data removed]",
            "text/plain": [
              "<Figure size 432x288 with 2 Axes>"
            ]
          },
          "metadata": {
            "needs_background": "light"
          }
        }
      ]
    },
    {
      "cell_type": "markdown",
      "metadata": {
        "id": "mf_MtSrnWsu4"
      },
      "source": [
        "#### Confusion Matrix for the Decission Tree Regression Model\n"
      ]
    },
    {
      "cell_type": "code",
      "metadata": {
        "colab": {
          "base_uri": "https://localhost:8080/",
          "height": 277
        },
        "id": "YPrblCSZNDU-",
        "outputId": "d327691e-64ff-462a-e750-25e4e0f988dc"
      },
      "source": [
        "label_aux = plt.subplot()\n",
        "cm_decision_tree_regression = confusion_matrix(y_test,y_prediction_dt)\n",
        "cm_dt = pd.DataFrame(cm_decision_tree_regression,\n",
        "                     index = ['3','4','5','6','7','8'], \n",
        "                     columns = ['3','4','5','6','7','8'])\n",
        "sns.heatmap(cm_dt,annot=True,fmt=\"d\")\n",
        "label_aux.set_xlabel('Predicted Quality');label_aux.set_ylabel('True Quality');"
      ],
      "execution_count": null,
      "outputs": [
        {
          "output_type": "display_data",
          "data": {
            "image/png": "[encoded data removed]",
            "text/plain": [
              "<Figure size 432x288 with 2 Axes>"
            ]
          },
          "metadata": {
            "needs_background": "light"
          }
        }
      ]
    },
    {
      "cell_type": "markdown",
      "metadata": {
        "id": "uCO5ZMmiWzgg"
      },
      "source": [
        "#### Confusion Matrix for the Random Forest Regression Model"
      ]
    },
    {
      "cell_type": "code",
      "metadata": {
        "colab": {
          "base_uri": "https://localhost:8080/",
          "height": 294
        },
        "id": "MaMoweDNNH2R",
        "outputId": "9fee646b-6718-4495-ee41-0c1339cc9741"
      },
      "source": [
        "label_aux = plt.subplot()\n",
        "cm_random_forest_regression = confusion_matrix(y_test,y_prediction_rf)\n",
        "cm_rf = pd.DataFrame(cm_random_forest_regression,\n",
        "                     index = ['3','4','5','6','7','8'], \n",
        "                     columns = ['3','4','5','6','7','8'])\n",
        "sns.heatmap(cm_rf,annot=True,fmt=\"d\")\n",
        "label_aux.set_xlabel('Predicted Quality');label_aux.set_ylabel('True Quality')"
      ],
      "execution_count": null,
      "outputs": [
        {
          "output_type": "execute_result",
          "data": {
            "text/plain": [
              "Text(34.0, 0.5, 'True Quality')"
            ]
          },
          "metadata": {
            "tags": []
          },
          "execution_count": 39
        },
        {
          "output_type": "display_data",
          "data": {
            "image/png": "[encoded data removed]",
            "text/plain": [
              "<Figure size 432x288 with 2 Axes>"
            ]
          },
          "metadata": {
            "tags": [],
            "needs_background": "light"
          }
        }
      ]
    },
    {
      "cell_type": "markdown",
      "metadata": {
        "id": "tAkPjh5UbpLc"
      },
      "source": [
        "### Calculating accuracy for the models after 1 off accuracy"
      ]
    },
    {
      "cell_type": "code",
      "metadata": {
        "colab": {
          "base_uri": "https://localhost:8080/"
        },
        "id": "ZsP-whi_bvtB",
        "outputId": "c071f729-18aa-4c13-ed9a-0424b4d0acab"
      },
      "source": [
        "acc_lr = accuracy_score(y_test,y_prediction_lr)\n",
        "print(\"accuracy score for linear regresion is \",acc_lr,\"\\n\")\n",
        "acc_dt = accuracy_score(y_test,y_prediction_dt)\n",
        "print(\"accuracy score for decision tree is \",acc_dt,\"\\n\")\n",
        "acc_rf = accuracy_score(y_test,y_prediction_rf)\n",
        "print(\"accuracy score for random forest is \",acc_rf,\"\\n\")"
      ],
      "execution_count": null,
      "outputs": [
        {
          "output_type": "stream",
          "text": [
            "accuracy score for linear regresion is  0.98125 \n",
            "\n",
            "accuracy score for decision tree is  0.91875 \n",
            "\n",
            "accuracy score for random forest is  0.96875 \n",
            "\n"
          ],
          "name": "stdout"
        }
      ]
    },
    {
      "cell_type": "markdown",
      "metadata": {
        "id": "lZeO_OA-W-8L"
      },
      "source": [
        "### Calculating new RMSE values for the models"
      ]
    },
    {
      "cell_type": "code",
      "metadata": {
        "colab": {
          "base_uri": "https://localhost:8080/"
        },
        "id": "8NDwFwM2NLln",
        "outputId": "6f2906ab-6186-4352-dead-46cf35f5e012"
      },
      "source": [
        "RMSE_lr = sqrt(mean_squared_error(y_test, y_prediction_lr))\n",
        "print(\"RMSE for new improved Linear Regression is: \" + str(RMSE_lr) + \"\\n\")\n",
        "RMSE_dt = sqrt(mean_squared_error(y_test, y_prediction_dt))\n",
        "print(\"RMSE for new improved Decision Tree Regression is: \" + str(RMSE_dt) + \"\\n\")\n",
        "RMSE_rf = sqrt(mean_squared_error(y_test, y_prediction_rf))\n",
        "print(\"RMSE for new improved Random Forest Regression is: \" + str(RMSE_rf) + \"\\n\")"
      ],
      "execution_count": null,
      "outputs": [
        {
          "output_type": "stream",
          "text": [
            "RMSE for new improved Linear Regression is: 0.27386127875258304\n",
            "\n",
            "RMSE for new improved Decision Tree Regression is: 0.5968668193156661\n",
            "\n",
            "RMSE for new improved Random Forest Regression is: 0.3535533905932738\n",
            "\n"
          ],
          "name": "stdout"
        }
      ]
    },
    {
      "cell_type": "markdown",
      "metadata": {
        "id": "r1raNhhWXHS2"
      },
      "source": [
        "### Checking Precision, Recall and F1 Score values for the models"
      ]
    },
    {
      "cell_type": "code",
      "metadata": {
        "colab": {
          "base_uri": "https://localhost:8080/"
        },
        "id": "qB2v1s9XNQPf",
        "outputId": "9795eb6c-bdf8-400f-f5a2-2f487b1a01aa"
      },
      "source": [
        "warnings.filterwarnings('ignore')\n",
        "ptbl = PrettyTable()\n",
        "ptbl.field_names = [\"Regressor Model\", \"Precision\", \"Recall\", \"F1Score\"]\n",
        "ptbl.add_row([\"Linear\", precision_score(y_test, y_prediction_lr, average = 'weighted'),\n",
        "           recall_score(y_test, y_prediction_lr, average = 'weighted'), f1_score(y_test, y_prediction_lr, average = 'weighted')])\n",
        "ptbl.add_row([\"Decision Tree\", precision_score(y_test, y_prediction_dt, average = 'weighted'), recall_score(y_test, y_prediction_dt, average = 'weighted'), \n",
        "           f1_score(y_test, y_prediction_dt, average = 'weighted')])\n",
        "ptbl.add_row([\"Random Forest\", precision_score(y_test, y_prediction_rf, average = 'weighted'), recall_score(y_test, y_prediction_rf, average = 'weighted'),\n",
        "           f1_score(y_test, y_prediction_rf, average = 'weighted')])\n",
        "print(ptbl)"
      ],
      "execution_count": null,
      "outputs": [
        {
          "output_type": "stream",
          "text": [
            "+-----------------+--------------------+---------+--------------------+\n",
            "| Regressor Model |     Precision      |  Recall |      F1Score       |\n",
            "+-----------------+--------------------+---------+--------------------+\n",
            "|      Linear     | 0.9797021240507777 | 0.98125 | 0.9787385410477942 |\n",
            "|  Decision Tree  | 0.9225545595229163 | 0.91875 | 0.9202198458894887 |\n",
            "|  Random Forest  | 0.9661947165672622 | 0.96875 | 0.9660315070376045 |\n",
            "+-----------------+--------------------+---------+--------------------+\n"
          ],
          "name": "stdout"
        }
      ]
    },
    {
      "cell_type": "code",
      "metadata": {
        "id": "Wk23StprHzT6"
      },
      "source": [
        ""
      ],
      "execution_count": null,
      "outputs": []
    }
  ]
}